{
 "cells": [
  {
   "cell_type": "markdown",
   "metadata": {},
   "source": [
    "# Load necessary packages"
   ]
  },
  {
   "cell_type": "code",
   "execution_count": 21,
   "metadata": {},
   "outputs": [],
   "source": [
    "import geopandas\n",
    "from matplotlib import pyplot as plt\n",
    "# make sure you are in oy-env"
   ]
  },
  {
   "cell_type": "markdown",
   "metadata": {},
   "source": [
    "# Load necessary data"
   ]
  },
  {
   "cell_type": "code",
   "execution_count": 9,
   "metadata": {},
   "outputs": [],
   "source": [
    "wa_puma = geopandas.read_file(\"data/raw/tl_2017_53_puma10.shp\") "
   ]
  },
  {
   "cell_type": "code",
   "execution_count": 25,
   "metadata": {},
   "outputs": [
    {
     "data": {
      "text/html": [
       "<div>\n",
       "<style scoped>\n",
       "    .dataframe tbody tr th:only-of-type {\n",
       "        vertical-align: middle;\n",
       "    }\n",
       "\n",
       "    .dataframe tbody tr th {\n",
       "        vertical-align: top;\n",
       "    }\n",
       "\n",
       "    .dataframe thead th {\n",
       "        text-align: right;\n",
       "    }\n",
       "</style>\n",
       "<table border=\"1\" class=\"dataframe\">\n",
       "  <thead>\n",
       "    <tr style=\"text-align: right;\">\n",
       "      <th></th>\n",
       "      <th>STATEFP10</th>\n",
       "      <th>PUMACE10</th>\n",
       "      <th>GEOID10</th>\n",
       "      <th>NAMELSAD10</th>\n",
       "      <th>MTFCC10</th>\n",
       "      <th>FUNCSTAT10</th>\n",
       "      <th>ALAND10</th>\n",
       "      <th>AWATER10</th>\n",
       "      <th>INTPTLAT10</th>\n",
       "      <th>INTPTLON10</th>\n",
       "      <th>geometry</th>\n",
       "    </tr>\n",
       "  </thead>\n",
       "  <tbody>\n",
       "    <tr>\n",
       "      <th>0</th>\n",
       "      <td>53</td>\n",
       "      <td>10200</td>\n",
       "      <td>5310200</td>\n",
       "      <td>Skagit, Island &amp; San Juan Counties PUMA</td>\n",
       "      <td>G6120</td>\n",
       "      <td>S</td>\n",
       "      <td>5470622131</td>\n",
       "      <td>2441658886</td>\n",
       "      <td>+48.4470835</td>\n",
       "      <td>-122.1737477</td>\n",
       "      <td>POLYGON ((-122.44422 48.64527, -122.43685 48.6...</td>\n",
       "    </tr>\n",
       "    <tr>\n",
       "      <th>1</th>\n",
       "      <td>53</td>\n",
       "      <td>10100</td>\n",
       "      <td>5310100</td>\n",
       "      <td>Whatcom County--Bellingham City PUMA</td>\n",
       "      <td>G6120</td>\n",
       "      <td>S</td>\n",
       "      <td>5459332804</td>\n",
       "      <td>1028183246</td>\n",
       "      <td>+48.8426531</td>\n",
       "      <td>-121.8364325</td>\n",
       "      <td>POLYGON ((-122.40642 49.00230, -122.40617 49.0...</td>\n",
       "    </tr>\n",
       "    <tr>\n",
       "      <th>2</th>\n",
       "      <td>53</td>\n",
       "      <td>10400</td>\n",
       "      <td>5310400</td>\n",
       "      <td>Stevens, Okanogan, Pend Oreille &amp; Ferry Counti...</td>\n",
       "      <td>G6120</td>\n",
       "      <td>S</td>\n",
       "      <td>29389124389</td>\n",
       "      <td>489162432</td>\n",
       "      <td>+48.5031090</td>\n",
       "      <td>-118.7866777</td>\n",
       "      <td>POLYGON ((-118.14859 47.88667, -118.14899 47.8...</td>\n",
       "    </tr>\n",
       "    <tr>\n",
       "      <th>3</th>\n",
       "      <td>53</td>\n",
       "      <td>10504</td>\n",
       "      <td>5310504</td>\n",
       "      <td>Spokane County (Outer)--Cheney City PUMA</td>\n",
       "      <td>G6120</td>\n",
       "      <td>S</td>\n",
       "      <td>3983412021</td>\n",
       "      <td>35812133</td>\n",
       "      <td>+47.5972847</td>\n",
       "      <td>-117.1210417</td>\n",
       "      <td>POLYGON ((-117.10528 47.61018, -117.10527 47.6...</td>\n",
       "    </tr>\n",
       "    <tr>\n",
       "      <th>4</th>\n",
       "      <td>53</td>\n",
       "      <td>10503</td>\n",
       "      <td>5310503</td>\n",
       "      <td>Spokane County (East Central)--Greater Spokane...</td>\n",
       "      <td>G6120</td>\n",
       "      <td>S</td>\n",
       "      <td>270926976</td>\n",
       "      <td>5004332</td>\n",
       "      <td>+47.6561281</td>\n",
       "      <td>-117.1818649</td>\n",
       "      <td>POLYGON ((-117.15534 47.69971, -117.15509 47.6...</td>\n",
       "    </tr>\n",
       "  </tbody>\n",
       "</table>\n",
       "</div>"
      ],
      "text/plain": [
       "  STATEFP10 PUMACE10  GEOID10  \\\n",
       "0        53    10200  5310200   \n",
       "1        53    10100  5310100   \n",
       "2        53    10400  5310400   \n",
       "3        53    10504  5310504   \n",
       "4        53    10503  5310503   \n",
       "\n",
       "                                          NAMELSAD10 MTFCC10 FUNCSTAT10  \\\n",
       "0            Skagit, Island & San Juan Counties PUMA   G6120          S   \n",
       "1               Whatcom County--Bellingham City PUMA   G6120          S   \n",
       "2  Stevens, Okanogan, Pend Oreille & Ferry Counti...   G6120          S   \n",
       "3           Spokane County (Outer)--Cheney City PUMA   G6120          S   \n",
       "4  Spokane County (East Central)--Greater Spokane...   G6120          S   \n",
       "\n",
       "       ALAND10    AWATER10   INTPTLAT10    INTPTLON10  \\\n",
       "0   5470622131  2441658886  +48.4470835  -122.1737477   \n",
       "1   5459332804  1028183246  +48.8426531  -121.8364325   \n",
       "2  29389124389   489162432  +48.5031090  -118.7866777   \n",
       "3   3983412021    35812133  +47.5972847  -117.1210417   \n",
       "4    270926976     5004332  +47.6561281  -117.1818649   \n",
       "\n",
       "                                            geometry  \n",
       "0  POLYGON ((-122.44422 48.64527, -122.43685 48.6...  \n",
       "1  POLYGON ((-122.40642 49.00230, -122.40617 49.0...  \n",
       "2  POLYGON ((-118.14859 47.88667, -118.14899 47.8...  \n",
       "3  POLYGON ((-117.10528 47.61018, -117.10527 47.6...  \n",
       "4  POLYGON ((-117.15534 47.69971, -117.15509 47.6...  "
      ]
     },
     "execution_count": 25,
     "metadata": {},
     "output_type": "execute_result"
    }
   ],
   "source": [
    "wa_puma.head()"
   ]
  },
  {
   "cell_type": "code",
   "execution_count": 66,
   "metadata": {},
   "outputs": [],
   "source": [
    "kc_puma = wa_puma[wa_puma['NAMELSAD10'].str.contains('King')]"
   ]
  },
  {
   "cell_type": "code",
   "execution_count": 67,
   "metadata": {},
   "outputs": [
    {
     "data": {
      "text/html": [
       "<div>\n",
       "<style scoped>\n",
       "    .dataframe tbody tr th:only-of-type {\n",
       "        vertical-align: middle;\n",
       "    }\n",
       "\n",
       "    .dataframe tbody tr th {\n",
       "        vertical-align: top;\n",
       "    }\n",
       "\n",
       "    .dataframe thead th {\n",
       "        text-align: right;\n",
       "    }\n",
       "</style>\n",
       "<table border=\"1\" class=\"dataframe\">\n",
       "  <thead>\n",
       "    <tr style=\"text-align: right;\">\n",
       "      <th></th>\n",
       "      <th>STATEFP10</th>\n",
       "      <th>PUMACE10</th>\n",
       "      <th>GEOID10</th>\n",
       "      <th>NAMELSAD10</th>\n",
       "      <th>MTFCC10</th>\n",
       "      <th>FUNCSTAT10</th>\n",
       "      <th>ALAND10</th>\n",
       "      <th>AWATER10</th>\n",
       "      <th>INTPTLAT10</th>\n",
       "      <th>INTPTLON10</th>\n",
       "      <th>geometry</th>\n",
       "    </tr>\n",
       "  </thead>\n",
       "  <tbody>\n",
       "    <tr>\n",
       "      <th>9</th>\n",
       "      <td>53</td>\n",
       "      <td>11612</td>\n",
       "      <td>5311612</td>\n",
       "      <td>King County (Far Southwest)--Federal Way, Des ...</td>\n",
       "      <td>G6120</td>\n",
       "      <td>S</td>\n",
       "      <td>160638807</td>\n",
       "      <td>279665546</td>\n",
       "      <td>+47.4764651</td>\n",
       "      <td>-122.4271168</td>\n",
       "      <td>POLYGON ((-122.33587 47.26382, -122.33676 47.2...</td>\n",
       "    </tr>\n",
       "    <tr>\n",
       "      <th>32</th>\n",
       "      <td>53</td>\n",
       "      <td>11616</td>\n",
       "      <td>5311616</td>\n",
       "      <td>King County (Northeast)--Snoqualmie City, Cott...</td>\n",
       "      <td>G6120</td>\n",
       "      <td>S</td>\n",
       "      <td>2477645989</td>\n",
       "      <td>49838932</td>\n",
       "      <td>+47.5779171</td>\n",
       "      <td>-121.6433869</td>\n",
       "      <td>POLYGON ((-121.87736 47.50068, -121.87745 47.5...</td>\n",
       "    </tr>\n",
       "    <tr>\n",
       "      <th>35</th>\n",
       "      <td>53</td>\n",
       "      <td>11611</td>\n",
       "      <td>5311611</td>\n",
       "      <td>King County (West Central)--Burien, SeaTac, Tu...</td>\n",
       "      <td>G6120</td>\n",
       "      <td>S</td>\n",
       "      <td>104685305</td>\n",
       "      <td>6835973</td>\n",
       "      <td>+47.4500687</td>\n",
       "      <td>-122.3101564</td>\n",
       "      <td>POLYGON ((-122.26541 47.48933, -122.26516 47.4...</td>\n",
       "    </tr>\n",
       "    <tr>\n",
       "      <th>39</th>\n",
       "      <td>53</td>\n",
       "      <td>11606</td>\n",
       "      <td>5311606</td>\n",
       "      <td>King County (Northwest)--Shoreline, Kenmore &amp; ...</td>\n",
       "      <td>G6120</td>\n",
       "      <td>S</td>\n",
       "      <td>75073924</td>\n",
       "      <td>5794567</td>\n",
       "      <td>+47.7564420</td>\n",
       "      <td>-122.2787890</td>\n",
       "      <td>POLYGON ((-122.25359 47.73566, -122.26084 47.7...</td>\n",
       "    </tr>\n",
       "    <tr>\n",
       "      <th>41</th>\n",
       "      <td>53</td>\n",
       "      <td>11615</td>\n",
       "      <td>5311615</td>\n",
       "      <td>King County (Southeast)--Maple Valley, Covingt...</td>\n",
       "      <td>G6120</td>\n",
       "      <td>S</td>\n",
       "      <td>1704963276</td>\n",
       "      <td>21281417</td>\n",
       "      <td>+47.2986756</td>\n",
       "      <td>-121.7866429</td>\n",
       "      <td>POLYGON ((-121.99603 47.28012, -121.99615 47.2...</td>\n",
       "    </tr>\n",
       "    <tr>\n",
       "      <th>42</th>\n",
       "      <td>53</td>\n",
       "      <td>11614</td>\n",
       "      <td>5311614</td>\n",
       "      <td>King County (Southwest)--Auburn City &amp; Lakelan...</td>\n",
       "      <td>G6120</td>\n",
       "      <td>S</td>\n",
       "      <td>177945706</td>\n",
       "      <td>2750138</td>\n",
       "      <td>+47.2844346</td>\n",
       "      <td>-122.1690701</td>\n",
       "      <td>POLYGON ((-122.21930 47.25746, -122.21948 47.2...</td>\n",
       "    </tr>\n",
       "    <tr>\n",
       "      <th>44</th>\n",
       "      <td>53</td>\n",
       "      <td>11613</td>\n",
       "      <td>5311613</td>\n",
       "      <td>King County (Southwest Central)--Kent City PUMA</td>\n",
       "      <td>G6120</td>\n",
       "      <td>S</td>\n",
       "      <td>96646675</td>\n",
       "      <td>1914377</td>\n",
       "      <td>+47.3879703</td>\n",
       "      <td>-122.2127275</td>\n",
       "      <td>POLYGON ((-122.20242 47.34461, -122.20287 47.3...</td>\n",
       "    </tr>\n",
       "    <tr>\n",
       "      <th>45</th>\n",
       "      <td>53</td>\n",
       "      <td>11609</td>\n",
       "      <td>5311609</td>\n",
       "      <td>King County (Central)--Sammamish, Issaquah, Me...</td>\n",
       "      <td>G6120</td>\n",
       "      <td>S</td>\n",
       "      <td>203445872</td>\n",
       "      <td>28674310</td>\n",
       "      <td>+47.5610064</td>\n",
       "      <td>-122.0701617</td>\n",
       "      <td>POLYGON ((-122.00610 47.63795, -122.00588 47.6...</td>\n",
       "    </tr>\n",
       "    <tr>\n",
       "      <th>51</th>\n",
       "      <td>53</td>\n",
       "      <td>11607</td>\n",
       "      <td>5311607</td>\n",
       "      <td>King County (Northwest)--Redmond, Kirkland Cit...</td>\n",
       "      <td>G6120</td>\n",
       "      <td>S</td>\n",
       "      <td>93365944</td>\n",
       "      <td>12948247</td>\n",
       "      <td>+47.6827310</td>\n",
       "      <td>-122.1668045</td>\n",
       "      <td>POLYGON ((-122.09193 47.65352, -122.09687 47.6...</td>\n",
       "    </tr>\n",
       "    <tr>\n",
       "      <th>52</th>\n",
       "      <td>53</td>\n",
       "      <td>11610</td>\n",
       "      <td>5311610</td>\n",
       "      <td>King County (Central)--Renton City, Fairwood, ...</td>\n",
       "      <td>G6120</td>\n",
       "      <td>S</td>\n",
       "      <td>75931302</td>\n",
       "      <td>4694856</td>\n",
       "      <td>+47.4836108</td>\n",
       "      <td>-122.1904418</td>\n",
       "      <td>POLYGON ((-122.18399 47.51673, -122.18361 47.5...</td>\n",
       "    </tr>\n",
       "    <tr>\n",
       "      <th>53</th>\n",
       "      <td>53</td>\n",
       "      <td>11608</td>\n",
       "      <td>5311608</td>\n",
       "      <td>King County (Northwest Central)--Greater Belle...</td>\n",
       "      <td>G6120</td>\n",
       "      <td>S</td>\n",
       "      <td>91442359</td>\n",
       "      <td>24875257</td>\n",
       "      <td>+47.6041090</td>\n",
       "      <td>-122.1675781</td>\n",
       "      <td>POLYGON ((-122.15357 47.54456, -122.15843 47.5...</td>\n",
       "    </tr>\n",
       "  </tbody>\n",
       "</table>\n",
       "</div>"
      ],
      "text/plain": [
       "   STATEFP10 PUMACE10  GEOID10  \\\n",
       "9         53    11612  5311612   \n",
       "32        53    11616  5311616   \n",
       "35        53    11611  5311611   \n",
       "39        53    11606  5311606   \n",
       "41        53    11615  5311615   \n",
       "42        53    11614  5311614   \n",
       "44        53    11613  5311613   \n",
       "45        53    11609  5311609   \n",
       "51        53    11607  5311607   \n",
       "52        53    11610  5311610   \n",
       "53        53    11608  5311608   \n",
       "\n",
       "                                           NAMELSAD10 MTFCC10 FUNCSTAT10  \\\n",
       "9   King County (Far Southwest)--Federal Way, Des ...   G6120          S   \n",
       "32  King County (Northeast)--Snoqualmie City, Cott...   G6120          S   \n",
       "35  King County (West Central)--Burien, SeaTac, Tu...   G6120          S   \n",
       "39  King County (Northwest)--Shoreline, Kenmore & ...   G6120          S   \n",
       "41  King County (Southeast)--Maple Valley, Covingt...   G6120          S   \n",
       "42  King County (Southwest)--Auburn City & Lakelan...   G6120          S   \n",
       "44    King County (Southwest Central)--Kent City PUMA   G6120          S   \n",
       "45  King County (Central)--Sammamish, Issaquah, Me...   G6120          S   \n",
       "51  King County (Northwest)--Redmond, Kirkland Cit...   G6120          S   \n",
       "52  King County (Central)--Renton City, Fairwood, ...   G6120          S   \n",
       "53  King County (Northwest Central)--Greater Belle...   G6120          S   \n",
       "\n",
       "       ALAND10   AWATER10   INTPTLAT10    INTPTLON10  \\\n",
       "9    160638807  279665546  +47.4764651  -122.4271168   \n",
       "32  2477645989   49838932  +47.5779171  -121.6433869   \n",
       "35   104685305    6835973  +47.4500687  -122.3101564   \n",
       "39    75073924    5794567  +47.7564420  -122.2787890   \n",
       "41  1704963276   21281417  +47.2986756  -121.7866429   \n",
       "42   177945706    2750138  +47.2844346  -122.1690701   \n",
       "44    96646675    1914377  +47.3879703  -122.2127275   \n",
       "45   203445872   28674310  +47.5610064  -122.0701617   \n",
       "51    93365944   12948247  +47.6827310  -122.1668045   \n",
       "52    75931302    4694856  +47.4836108  -122.1904418   \n",
       "53    91442359   24875257  +47.6041090  -122.1675781   \n",
       "\n",
       "                                             geometry  \n",
       "9   POLYGON ((-122.33587 47.26382, -122.33676 47.2...  \n",
       "32  POLYGON ((-121.87736 47.50068, -121.87745 47.5...  \n",
       "35  POLYGON ((-122.26541 47.48933, -122.26516 47.4...  \n",
       "39  POLYGON ((-122.25359 47.73566, -122.26084 47.7...  \n",
       "41  POLYGON ((-121.99603 47.28012, -121.99615 47.2...  \n",
       "42  POLYGON ((-122.21930 47.25746, -122.21948 47.2...  \n",
       "44  POLYGON ((-122.20242 47.34461, -122.20287 47.3...  \n",
       "45  POLYGON ((-122.00610 47.63795, -122.00588 47.6...  \n",
       "51  POLYGON ((-122.09193 47.65352, -122.09687 47.6...  \n",
       "52  POLYGON ((-122.18399 47.51673, -122.18361 47.5...  \n",
       "53  POLYGON ((-122.15357 47.54456, -122.15843 47.5...  "
      ]
     },
     "execution_count": 67,
     "metadata": {},
     "output_type": "execute_result"
    }
   ],
   "source": [
    "kc_puma"
   ]
  },
  {
   "cell_type": "code",
   "execution_count": 29,
   "metadata": {},
   "outputs": [],
   "source": [
    "# PUMA #'s:\n",
    "\n",
    "# 11610 - 11614"
   ]
  },
  {
   "cell_type": "markdown",
   "metadata": {},
   "source": [
    "## REDO THE BELOW CODE"
   ]
  },
  {
   "cell_type": "code",
   "execution_count": 68,
   "metadata": {},
   "outputs": [],
   "source": [
    "# kc_puma = kc_puma[kc_puma['PUMACE10'].astype(int)]\n",
    "\n",
    "## WE NEED TO REDO THIS SO NO ERROR\n",
    "kc_puma.loc[:,'PUMACE10'] = kc_puma['PUMACE10'].astype(int)"
   ]
  },
  {
   "cell_type": "code",
   "execution_count": 69,
   "metadata": {},
   "outputs": [
    {
     "data": {
      "text/plain": [
       "9     11612\n",
       "32    11616\n",
       "35    11611\n",
       "39    11606\n",
       "41    11615\n",
       "42    11614\n",
       "44    11613\n",
       "45    11609\n",
       "51    11607\n",
       "52    11610\n",
       "53    11608\n",
       "Name: PUMACE10, dtype: int64"
      ]
     },
     "execution_count": 69,
     "metadata": {},
     "output_type": "execute_result"
    }
   ],
   "source": [
    "kc_puma['PUMACE10']"
   ]
  },
  {
   "cell_type": "code",
   "execution_count": null,
   "metadata": {},
   "outputs": [],
   "source": [
    "# if [(kc_puma['PUMACE10'] <= 11614) & (kc_puma['PUMACE10'] >= 11610)]:\n",
    "#     kc_puma['South_Marker'] = True\n",
    "# else:\n",
    "#     kc_puma['South_Marker'] = False\n",
    "\n",
    "# if kc_puma['PUMACE10'].between(11610, 11614):\n",
    "#     kc_puma['PUMACE10'] = 1\n",
    "# else:\n",
    "#     kc_puma['PUMACE10'] = 0\n",
    "    \n",
    "# if (kc_puma['PUMACE10'] >= 11610) & (kc_puma['PUMACE10'] <= 11614):\n",
    "#     kc_puma['KCS'] = 1\n",
    "# else:\n",
    "#     kc_puma['KCS'] = 0"
   ]
  },
  {
   "cell_type": "code",
   "execution_count": 76,
   "metadata": {},
   "outputs": [],
   "source": [
    "# Creates a new colum and sets all to false\n",
    "kc_puma['KCS'] = False"
   ]
  },
  {
   "cell_type": "code",
   "execution_count": 80,
   "metadata": {},
   "outputs": [
    {
     "name": "stderr",
     "output_type": "stream",
     "text": [
      "//anaconda3/envs/oy-env/lib/python3.7/site-packages/ipykernel_launcher.py:2: SettingWithCopyWarning: \n",
      "A value is trying to be set on a copy of a slice from a DataFrame.\n",
      "Try using .loc[row_indexer,col_indexer] = value instead\n",
      "\n",
      "See the caveats in the documentation: http://pandas.pydata.org/pandas-docs/stable/user_guide/indexing.html#returning-a-view-versus-a-copy\n",
      "  \n"
     ]
    }
   ],
   "source": [
    "# If the PUMA is in south seattle, make the value become True\n",
    "kc_puma['KCS'] = kc_puma['PUMACE10'].between(11610, 11614)"
   ]
  },
  {
   "cell_type": "code",
   "execution_count": 82,
   "metadata": {},
   "outputs": [
    {
     "data": {
      "text/plain": [
       "<matplotlib.axes._subplots.AxesSubplot at 0x1272fbb38>"
      ]
     },
     "execution_count": 82,
     "metadata": {},
     "output_type": "execute_result"
    },
    {
     "data": {
      "image/png": "[encoded data removed]",
      "text/plain": [
       "<Figure size 432x288 with 1 Axes>"
      ]
     },
     "metadata": {
      "needs_background": "light"
     },
     "output_type": "display_data"
    }
   ],
   "source": [
    "kc_puma.plot(column='KCS')"
   ]
  },
  {
   "cell_type": "code",
   "execution_count": 86,
   "metadata": {},
   "outputs": [
    {
     "data": {
      "text/plain": [
       "<matplotlib.axes._subplots.AxesSubplot at 0x12722f4e0>"
      ]
     },
     "execution_count": 86,
     "metadata": {},
     "output_type": "execute_result"
    },
    {
     "data": {
      "image/png": "[encoded data removed]",
      "text/plain": [
       "<Figure size 432x288 with 1 Axes>"
      ]
     },
     "metadata": {
      "needs_background": "light"
     },
     "output_type": "display_data"
    }
   ],
   "source": [
    "# this adds KCS column to all WA data\n",
    "wa_puma.loc[:,'PUMACE10'] = wa_puma['PUMACE10'].astype(int)\n",
    "wa_puma['KCS'] = False\n",
    "wa_puma['KCS'] = wa_puma['PUMACE10'].between(11610, 11614)\n",
    "wa_puma.plot(column='KCS')"
   ]
  },
  {
   "cell_type": "code",
   "execution_count": null,
   "metadata": {},
   "outputs": [],
   "source": []
  },
  {
   "cell_type": "markdown",
   "metadata": {},
   "source": [
    "# Plot the spacial data frame as a map"
   ]
  },
  {
   "cell_type": "code",
   "execution_count": 40,
   "metadata": {},
   "outputs": [
    {
     "data": {
      "image/png": "[encoded data removed]",
      "text/plain": [
       "<Figure size 432x288 with 1 Axes>"
      ]
     },
     "metadata": {
      "needs_background": "light"
     },
     "output_type": "display_data"
    }
   ],
   "source": [
    "# fig, ax = plt.subplots(1, 1, figsize =(10, 8))\n",
    "# ax.\n",
    "\n",
    "kcs_puma.plot()\n",
    "plt.show()"
   ]
  },
  {
   "cell_type": "code",
   "execution_count": null,
   "metadata": {},
   "outputs": [],
   "source": []
  }
 ],
 "metadata": {
  "kernelspec": {
   "display_name": "oy-env",
   "language": "python",
   "name": "oy-env"
  },
  "language_info": {
   "codemirror_mode": {
    "name": "ipython",
    "version": 3
   },
   "file_extension": ".py",
   "mimetype": "text/x-python",
   "name": "python",
   "nbconvert_exporter": "python",
   "pygments_lexer": "ipython3",
   "version": "3.7.3"
  }
 },
 "nbformat": 4,
 "nbformat_minor": 2
}
