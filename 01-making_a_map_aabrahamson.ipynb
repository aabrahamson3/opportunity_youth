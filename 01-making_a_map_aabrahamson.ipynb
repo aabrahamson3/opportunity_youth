{
 "cells": [
  {
   "cell_type": "markdown",
   "metadata": {},
   "source": [
    "# Mapping King County w/ Opportunity Youth Population Figures"
   ]
  },
  {
   "cell_type": "markdown",
   "metadata": {},
   "source": [
    "This notebook describes the process of importing and cleaning King County Washington map data, and then plotting into a figure used in our report"
   ]
  },
  {
   "cell_type": "markdown",
   "metadata": {},
   "source": [
    "## Load necessary packages"
   ]
  },
  {
   "cell_type": "code",
   "execution_count": null,
   "metadata": {},
   "outputs": [],
   "source": [
    "# make sure you are in oy-env environment\n",
    "%matplotlib inline\n",
    "import geopandas as gpd\n",
    "from matplotlib import pyplot as plt\n",
    "import pandas as pd"
   ]
  },
  {
   "cell_type": "markdown",
   "metadata": {},
   "source": [
    "## Load necessary data and process for mapping"
   ]
  },
  {
   "cell_type": "code",
   "execution_count": null,
   "metadata": {},
   "outputs": [],
   "source": [
    "# Import Washington PUMA Data with GeoPandas Shape data in Geometry column\n",
    "wa_puma = gpd.read_file(\"data/raw/tl_2017_53_puma10.shp\") \n",
    "\n",
    "# Loads Opportunity Youth Population data obtained from a Postgresql database\n",
    "oy_per_puma_df = pd.read_csv('data/processed/oy_per_puma.csv')\n",
    "\n",
    "# Imports Job Availability for people under 29 years old by PUMA#\n",
    "jobs_per_puma_df = pd.read_csv('data/processed/jobs_per_puma.csv')\n",
    "\n",
    "# Converts PUMACE10 Column from string to integer\n",
    "wa_puma.loc[:,'PUMACE10'] = wa_puma['PUMACE10'].astype(int)\n",
    "\n",
    "# Selects all PUMA codes for King County (including Seattle) PUMAs and puts into Subset\n",
    "kc_puma = wa_puma.loc[(wa_puma.PUMACE10 >= 11601 ) & (wa_puma.PUMACE10 <= 11616)]\n",
    "\n",
    "# List of PUMA #'s for S. Seattle and S. King County\n",
    "skc_puma_list = [11604, 11605, 11610, 11611, 11612, 11613, 11614]\n",
    "\n",
    "## Creates a new column, KCS and assigns a 1 if the PUMA is in S. King Country/S. Seattle, or 0 otherwise. This is\n",
    "# used to map the gray portion of the figure\n",
    "skc_puma = kc_puma.assign(SKC = [1 if row in skc_puma_list else 0 for row in kc_puma['PUMACE10']]) \n",
    "\n",
    "# inner join with KC data to make a SKC only subset with the OY Population Data Added\n",
    "skc_chloro = pd.merge(skc_puma, oy_per_puma_df, on='PUMACE10', how='inner')\n",
    "\n",
    "# inner join with jobs data, to map jobs available per PUMA region\n",
    "skc_jobs_chloro = pd.merge(skc_puma, jobs_per_puma_df, on='PUMACE10', how='inner')"
   ]
  },
  {
   "cell_type": "markdown",
   "metadata": {},
   "source": [
    "## Visualization of South King County"
   ]
  },
  {
   "cell_type": "code",
   "execution_count": null,
   "metadata": {},
   "outputs": [],
   "source": [
    "# Plots a map of King County, with South King County and South Seattle in color\n",
    "fig, ax = plt.subplots(1, figsize=(20, 16))\n",
    "ax = skc_puma.plot(ax=ax, \n",
    "              column='SKC', cmap='Accent_r', alpha = .5, linewidth=.5, edgecolor='black',  legend = False)\n",
    "ax.set_title('Map of King County (South King County in Color)', fontsize = 20)\n",
    "ax.set_axis_off()\n",
    "fig.tight_layout;"
   ]
  },
  {
   "cell_type": "markdown",
   "metadata": {},
   "source": [
    "# Chloropleth Map of South King County (with OY Population)"
   ]
  },
  {
   "cell_type": "code",
   "execution_count": null,
   "metadata": {},
   "outputs": [],
   "source": [
    "# Plots a map of King County, and South King County as a Chloropleth map with Opportunity Youth Population Data\n",
    "# There are two plots, as we wanted the rest of King County to be another color than the chloropleth data\n",
    "fig, ax = plt.subplots(1, figsize=(15, 10))\n",
    "ax = skc_chloro.plot(ax=ax, \n",
    "              column='total_per_region', \n",
    "              alpha = 1, legend = True, \n",
    "              cmap= 'Greens',\n",
    "              linewidth= 0.75,\n",
    "              edgecolor = 'grey',\n",
    "              legend_kwds={'label': \"Opportunity Youth Population in South King County\", 'orientation': \"vertical\"\n",
    "                          })\n",
    "\n",
    "ax.set_title('Distribution of Opportunity Youth in South King County', fontsize = 20)\n",
    "ax.set_axis_off()\n",
    "fig.tight_layout;"
   ]
  },
  {
   "cell_type": "markdown",
   "metadata": {},
   "source": [
    "# Chloropleth Map of South King County Job Availability Data"
   ]
  },
  {
   "cell_type": "code",
   "execution_count": null,
   "metadata": {},
   "outputs": [],
   "source": [
    "fig, ax = plt.subplots(1, figsize=(15, 10))\n",
    "ax = skc_jobs_chloro.plot(ax=ax, \n",
    "              column = 'percentage_for_under_29 ', \n",
    "              alpha = 1, legend = True, \n",
    "              cmap= 'Purples',\n",
    "              linewidth= 0.75,\n",
    "              edgecolor = 'grey',\n",
    "              legend_kwds={'label': \"% of Jobs Available For <29 y/o per PUMA Region\", 'orientation': \"vertical\"\n",
    "                          })\n",
    "\n",
    "ax.set_title('South King County Job Availability, Under 29 Years Old,', fontsize = 20)\n",
    "ax.set_axis_off()\n",
    "fig.tight_layout;"
   ]
  }
 ],
 "metadata": {
  "kernelspec": {
   "display_name": "oy-env",
   "language": "python",
   "name": "oy-env"
  },
  "language_info": {
   "codemirror_mode": {
    "name": "ipython",
    "version": 3
   },
   "file_extension": ".py",
   "mimetype": "text/x-python",
   "name": "python",
   "nbconvert_exporter": "python",
   "pygments_lexer": "ipython3",
   "version": "3.7.3"
  }
 },
 "nbformat": 4,
 "nbformat_minor": 2
}
