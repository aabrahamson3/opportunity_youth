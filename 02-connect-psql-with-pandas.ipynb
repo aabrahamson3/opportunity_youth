{
 "cells": [
  {
   "cell_type": "markdown",
   "metadata": {},
   "source": [
    "Load Packages"
   ]
  },
  {
   "cell_type": "code",
   "execution_count": 1,
   "metadata": {},
   "outputs": [],
   "source": [
    "from sqlalchemy import create_engine\n",
    "import pandas as pd"
   ]
  },
  {
   "cell_type": "markdown",
   "metadata": {},
   "source": [
    "# Create a point to your psql database"
   ]
  },
  {
   "cell_type": "code",
   "execution_count": 25,
   "metadata": {},
   "outputs": [],
   "source": [
    "engine = create_engine(\"postgresql:///opportunity_youth\")"
   ]
  },
  {
   "cell_type": "markdown",
   "metadata": {},
   "source": [
    "## Import a `psql` table as a `pandas` dataframe"
   ]
  },
  {
   "cell_type": "code",
   "execution_count": 48,
   "metadata": {},
   "outputs": [
    {
     "data": {
      "text/html": [
       "<div>\n",
       "<style scoped>\n",
       "    .dataframe tbody tr th:only-of-type {\n",
       "        vertical-align: middle;\n",
       "    }\n",
       "\n",
       "    .dataframe tbody tr th {\n",
       "        vertical-align: top;\n",
       "    }\n",
       "\n",
       "    .dataframe thead th {\n",
       "        text-align: right;\n",
       "    }\n",
       "</style>\n",
       "<table border=\"1\" class=\"dataframe\">\n",
       "  <thead>\n",
       "    <tr style=\"text-align: right;\">\n",
       "      <th></th>\n",
       "      <th>state_name</th>\n",
       "      <th>puma</th>\n",
       "      <th>puma_name</th>\n",
       "    </tr>\n",
       "  </thead>\n",
       "  <tbody>\n",
       "    <tr>\n",
       "      <th>0</th>\n",
       "      <td>Washington                                    ...</td>\n",
       "      <td>11601</td>\n",
       "      <td>Seattle City (Northwest)                      ...</td>\n",
       "    </tr>\n",
       "    <tr>\n",
       "      <th>1</th>\n",
       "      <td>Washington                                    ...</td>\n",
       "      <td>11602</td>\n",
       "      <td>Seattle City (Northeast)                      ...</td>\n",
       "    </tr>\n",
       "    <tr>\n",
       "      <th>2</th>\n",
       "      <td>Washington                                    ...</td>\n",
       "      <td>11603</td>\n",
       "      <td>Seattle City (Downtown)--Queen Anne &amp; Magnolia...</td>\n",
       "    </tr>\n",
       "    <tr>\n",
       "      <th>3</th>\n",
       "      <td>Washington                                    ...</td>\n",
       "      <td>11604</td>\n",
       "      <td>Seattle City (Southeast)--Capitol Hill        ...</td>\n",
       "    </tr>\n",
       "    <tr>\n",
       "      <th>4</th>\n",
       "      <td>Washington                                    ...</td>\n",
       "      <td>11605</td>\n",
       "      <td>Seattle City (West)--Duwamish &amp; Beacon Hill   ...</td>\n",
       "    </tr>\n",
       "    <tr>\n",
       "      <th>5</th>\n",
       "      <td>Washington                                    ...</td>\n",
       "      <td>11606</td>\n",
       "      <td>King County (Northwest)--Shoreline, Kenmore &amp; ...</td>\n",
       "    </tr>\n",
       "    <tr>\n",
       "      <th>6</th>\n",
       "      <td>Washington                                    ...</td>\n",
       "      <td>11607</td>\n",
       "      <td>King County (Northwest)--Redmond, Kirkland Cit...</td>\n",
       "    </tr>\n",
       "    <tr>\n",
       "      <th>7</th>\n",
       "      <td>Washington                                    ...</td>\n",
       "      <td>11608</td>\n",
       "      <td>King County (Northwest Central)--Greater Belle...</td>\n",
       "    </tr>\n",
       "    <tr>\n",
       "      <th>8</th>\n",
       "      <td>Washington                                    ...</td>\n",
       "      <td>11609</td>\n",
       "      <td>King County (Central)--Sammamish, Issaquah, Me...</td>\n",
       "    </tr>\n",
       "    <tr>\n",
       "      <th>9</th>\n",
       "      <td>Washington                                    ...</td>\n",
       "      <td>11610</td>\n",
       "      <td>King County (Central)--Renton City, Fairwood, ...</td>\n",
       "    </tr>\n",
       "    <tr>\n",
       "      <th>10</th>\n",
       "      <td>Washington                                    ...</td>\n",
       "      <td>11613</td>\n",
       "      <td>King County (Southwest Central)--Kent City    ...</td>\n",
       "    </tr>\n",
       "    <tr>\n",
       "      <th>11</th>\n",
       "      <td>Washington                                    ...</td>\n",
       "      <td>11614</td>\n",
       "      <td>King County (Southwest)--Auburn City &amp; Lakelan...</td>\n",
       "    </tr>\n",
       "    <tr>\n",
       "      <th>12</th>\n",
       "      <td>Washington                                    ...</td>\n",
       "      <td>11611</td>\n",
       "      <td>King County (West Central)--Burien, SeaTac, Tu...</td>\n",
       "    </tr>\n",
       "    <tr>\n",
       "      <th>13</th>\n",
       "      <td>Washington                                    ...</td>\n",
       "      <td>11612</td>\n",
       "      <td>King County (Far Southwest)--Federal Way, Des ...</td>\n",
       "    </tr>\n",
       "  </tbody>\n",
       "</table>\n",
       "</div>"
      ],
      "text/plain": [
       "                                           state_name   puma  \\\n",
       "0   Washington                                    ...  11601   \n",
       "1   Washington                                    ...  11602   \n",
       "2   Washington                                    ...  11603   \n",
       "3   Washington                                    ...  11604   \n",
       "4   Washington                                    ...  11605   \n",
       "5   Washington                                    ...  11606   \n",
       "6   Washington                                    ...  11607   \n",
       "7   Washington                                    ...  11608   \n",
       "8   Washington                                    ...  11609   \n",
       "9   Washington                                    ...  11610   \n",
       "10  Washington                                    ...  11613   \n",
       "11  Washington                                    ...  11614   \n",
       "12  Washington                                    ...  11611   \n",
       "13  Washington                                    ...  11612   \n",
       "\n",
       "                                            puma_name  \n",
       "0   Seattle City (Northwest)                      ...  \n",
       "1   Seattle City (Northeast)                      ...  \n",
       "2   Seattle City (Downtown)--Queen Anne & Magnolia...  \n",
       "3   Seattle City (Southeast)--Capitol Hill        ...  \n",
       "4   Seattle City (West)--Duwamish & Beacon Hill   ...  \n",
       "5   King County (Northwest)--Shoreline, Kenmore & ...  \n",
       "6   King County (Northwest)--Redmond, Kirkland Cit...  \n",
       "7   King County (Northwest Central)--Greater Belle...  \n",
       "8   King County (Central)--Sammamish, Issaquah, Me...  \n",
       "9   King County (Central)--Renton City, Fairwood, ...  \n",
       "10  King County (Southwest Central)--Kent City    ...  \n",
       "11  King County (Southwest)--Auburn City & Lakelan...  \n",
       "12  King County (West Central)--Burien, SeaTac, Tu...  \n",
       "13  King County (Far Southwest)--Federal Way, Des ...  "
      ]
     },
     "execution_count": 48,
     "metadata": {},
     "output_type": "execute_result"
    }
   ],
   "source": [
    "puma_names_df = pd.read_sql_table('wapuma', con=engine)\n",
    "puma_names_df"
   ]
  },
  {
   "cell_type": "markdown",
   "metadata": {},
   "source": [
    "## Use CREATE TABLE table_name AS ( QUERY )"
   ]
  },
  {
   "cell_type": "markdown",
   "metadata": {},
   "source": [
    "Window functions? (Over?) <- Learn that shit"
   ]
  },
  {
   "cell_type": "code",
   "execution_count": null,
   "metadata": {},
   "outputs": [],
   "source": []
  }
 ],
 "metadata": {
  "kernelspec": {
   "display_name": "oy-env",
   "language": "python",
   "name": "oy-env"
  },
  "language_info": {
   "codemirror_mode": {
    "name": "ipython",
    "version": 3
   },
   "file_extension": ".py",
   "mimetype": "text/x-python",
   "name": "python",
   "nbconvert_exporter": "python",
   "pygments_lexer": "ipython3",
   "version": "3.7.3"
  }
 },
 "nbformat": 4,
 "nbformat_minor": 2
}
