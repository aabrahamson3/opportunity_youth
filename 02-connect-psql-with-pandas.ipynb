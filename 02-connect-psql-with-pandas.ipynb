{
 "cells": [
  {
   "cell_type": "markdown",
   "metadata": {},
   "source": [
    "Load Packages"
   ]
  },
  {
   "cell_type": "code",
   "execution_count": 6,
   "metadata": {},
   "outputs": [],
   "source": [
    "from sqlalchemy import create_engine\n",
    "import pandas as pd"
   ]
  },
  {
   "cell_type": "markdown",
   "metadata": {},
   "source": [
    "# Create a point to your psql database"
   ]
  },
  {
   "cell_type": "code",
   "execution_count": 3,
   "metadata": {},
   "outputs": [],
   "source": [
    "engine = create_engine(\"postgresql:///opportunity_youth\")"
   ]
  },
  {
   "cell_type": "markdown",
   "metadata": {},
   "source": [
    "## Import a `psql` table as a `pandas` dataframe"
   ]
  },
  {
   "cell_type": "code",
   "execution_count": 18,
   "metadata": {},
   "outputs": [],
   "source": [
    "puma_names_df = pd.read_sql(sql='SELECT * FROM puma_names_2010', con=engine)"
   ]
  },
  {
   "cell_type": "code",
   "execution_count": 16,
   "metadata": {},
   "outputs": [],
   "source": [
    "puma_names_df['state_name'] = 'Washington'"
   ]
  },
  {
   "cell_type": "code",
   "execution_count": 17,
   "metadata": {},
   "outputs": [
    {
     "data": {
      "text/html": [
       "<div>\n",
       "<style scoped>\n",
       "    .dataframe tbody tr th:only-of-type {\n",
       "        vertical-align: middle;\n",
       "    }\n",
       "\n",
       "    .dataframe tbody tr th {\n",
       "        vertical-align: top;\n",
       "    }\n",
       "\n",
       "    .dataframe thead th {\n",
       "        text-align: right;\n",
       "    }\n",
       "</style>\n",
       "<table border=\"1\" class=\"dataframe\">\n",
       "  <thead>\n",
       "    <tr style=\"text-align: right;\">\n",
       "      <th></th>\n",
       "      <th>state_fips</th>\n",
       "      <th>state_name</th>\n",
       "      <th>cpuma0010</th>\n",
       "      <th>puma</th>\n",
       "      <th>geoid</th>\n",
       "      <th>gisjoin</th>\n",
       "      <th>puma_name</th>\n",
       "    </tr>\n",
       "  </thead>\n",
       "  <tbody>\n",
       "    <tr>\n",
       "      <th>0</th>\n",
       "      <td>1</td>\n",
       "      <td>Washington</td>\n",
       "      <td>1</td>\n",
       "      <td>100</td>\n",
       "      <td>100100</td>\n",
       "      <td>G01000100</td>\n",
       "      <td>Lauderdale, Colbert, Franklin &amp; Marion (Northe...</td>\n",
       "    </tr>\n",
       "    <tr>\n",
       "      <th>1</th>\n",
       "      <td>1</td>\n",
       "      <td>Washington</td>\n",
       "      <td>1</td>\n",
       "      <td>800</td>\n",
       "      <td>100800</td>\n",
       "      <td>G01000800</td>\n",
       "      <td>St. Clair &amp; Blount Counties                   ...</td>\n",
       "    </tr>\n",
       "    <tr>\n",
       "      <th>2</th>\n",
       "      <td>1</td>\n",
       "      <td>Washington</td>\n",
       "      <td>1</td>\n",
       "      <td>1400</td>\n",
       "      <td>101400</td>\n",
       "      <td>G01001400</td>\n",
       "      <td>Walker, Marion (South &amp; West), Fayette &amp; Lamar...</td>\n",
       "    </tr>\n",
       "    <tr>\n",
       "      <th>3</th>\n",
       "      <td>1</td>\n",
       "      <td>Washington</td>\n",
       "      <td>1</td>\n",
       "      <td>1500</td>\n",
       "      <td>101500</td>\n",
       "      <td>G01001500</td>\n",
       "      <td>Tuscaloosa (Outer) &amp; Pickens Counties--Northpo...</td>\n",
       "    </tr>\n",
       "    <tr>\n",
       "      <th>4</th>\n",
       "      <td>1</td>\n",
       "      <td>Washington</td>\n",
       "      <td>1</td>\n",
       "      <td>1600</td>\n",
       "      <td>101600</td>\n",
       "      <td>G01001600</td>\n",
       "      <td>Tuscaloosa &amp; Northport (Southeast) Cities     ...</td>\n",
       "    </tr>\n",
       "    <tr>\n",
       "      <th>...</th>\n",
       "      <td>...</td>\n",
       "      <td>...</td>\n",
       "      <td>...</td>\n",
       "      <td>...</td>\n",
       "      <td>...</td>\n",
       "      <td>...</td>\n",
       "      <td>...</td>\n",
       "    </tr>\n",
       "    <tr>\n",
       "      <th>2373</th>\n",
       "      <td>72</td>\n",
       "      <td>Washington</td>\n",
       "      <td>1082</td>\n",
       "      <td>802</td>\n",
       "      <td>7200802</td>\n",
       "      <td>G72000802</td>\n",
       "      <td>Bayamón Municipio (OEste)                     ...</td>\n",
       "    </tr>\n",
       "    <tr>\n",
       "      <th>2374</th>\n",
       "      <td>72</td>\n",
       "      <td>Washington</td>\n",
       "      <td>1083</td>\n",
       "      <td>804</td>\n",
       "      <td>7200804</td>\n",
       "      <td>G72000804</td>\n",
       "      <td>San Juan Municipio (Noroeste)                 ...</td>\n",
       "    </tr>\n",
       "    <tr>\n",
       "      <th>2375</th>\n",
       "      <td>72</td>\n",
       "      <td>Washington</td>\n",
       "      <td>1084</td>\n",
       "      <td>805</td>\n",
       "      <td>7200805</td>\n",
       "      <td>G72000805</td>\n",
       "      <td>San Juan Municipio (Este)                     ...</td>\n",
       "    </tr>\n",
       "    <tr>\n",
       "      <th>2376</th>\n",
       "      <td>72</td>\n",
       "      <td>Washington</td>\n",
       "      <td>1084</td>\n",
       "      <td>806</td>\n",
       "      <td>7200806</td>\n",
       "      <td>G72000806</td>\n",
       "      <td>San Juan Municipio (Sur)                      ...</td>\n",
       "    </tr>\n",
       "    <tr>\n",
       "      <th>2377</th>\n",
       "      <td>72</td>\n",
       "      <td>Washington</td>\n",
       "      <td>1085</td>\n",
       "      <td>1001</td>\n",
       "      <td>7201001</td>\n",
       "      <td>G72001001</td>\n",
       "      <td>Caguas Municipio                              ...</td>\n",
       "    </tr>\n",
       "  </tbody>\n",
       "</table>\n",
       "<p>2378 rows × 7 columns</p>\n",
       "</div>"
      ],
      "text/plain": [
       "     state_fips  state_name cpuma0010   puma    geoid    gisjoin  \\\n",
       "0            1   Washington      1     100    100100   G01000100   \n",
       "1            1   Washington      1     800    100800   G01000800   \n",
       "2            1   Washington      1     1400   101400   G01001400   \n",
       "3            1   Washington      1     1500   101500   G01001500   \n",
       "4            1   Washington      1     1600   101600   G01001600   \n",
       "...         ...         ...       ...    ...      ...        ...   \n",
       "2373         72  Washington      1082  802    7200802  G72000802   \n",
       "2374         72  Washington      1083  804    7200804  G72000804   \n",
       "2375         72  Washington      1084  805    7200805  G72000805   \n",
       "2376         72  Washington      1084  806    7200806  G72000806   \n",
       "2377         72  Washington      1085  1001   7201001  G72001001   \n",
       "\n",
       "                                              puma_name  \n",
       "0     Lauderdale, Colbert, Franklin & Marion (Northe...  \n",
       "1     St. Clair & Blount Counties                   ...  \n",
       "2     Walker, Marion (South & West), Fayette & Lamar...  \n",
       "3     Tuscaloosa (Outer) & Pickens Counties--Northpo...  \n",
       "4     Tuscaloosa & Northport (Southeast) Cities     ...  \n",
       "...                                                 ...  \n",
       "2373  Bayamón Municipio (OEste)                     ...  \n",
       "2374  San Juan Municipio (Noroeste)                 ...  \n",
       "2375  San Juan Municipio (Este)                     ...  \n",
       "2376  San Juan Municipio (Sur)                      ...  \n",
       "2377  Caguas Municipio                              ...  \n",
       "\n",
       "[2378 rows x 7 columns]"
      ]
     },
     "execution_count": 17,
     "metadata": {},
     "output_type": "execute_result"
    }
   ],
   "source": [
    "puma_names_df"
   ]
  },
  {
   "cell_type": "markdown",
   "metadata": {},
   "source": [
    "## Use CREATE TABLE table_name AS ( QUERY )"
   ]
  },
  {
   "cell_type": "markdown",
   "metadata": {},
   "source": [
    "Window functions? (Over?) <- Learn that shit"
   ]
  },
  {
   "cell_type": "code",
   "execution_count": null,
   "metadata": {},
   "outputs": [],
   "source": []
  }
 ],
 "metadata": {
  "kernelspec": {
   "display_name": "oy-env",
   "language": "python",
   "name": "oy-env"
  },
  "language_info": {
   "codemirror_mode": {
    "name": "ipython",
    "version": 3
   },
   "file_extension": ".py",
   "mimetype": "text/x-python",
   "name": "python",
   "nbconvert_exporter": "python",
   "pygments_lexer": "ipython3",
   "version": "3.7.3"
  }
 },
 "nbformat": 4,
 "nbformat_minor": 2
}
